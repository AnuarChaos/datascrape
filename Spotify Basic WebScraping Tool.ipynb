{
 "cells": [
  {
   "cell_type": "code",
   "execution_count": 16,
   "metadata": {},
   "outputs": [
    {
     "name": "stdout",
     "output_type": "stream",
     "text": [
      "✅ Export complete: spotify_artist_top_20.csv for Falling In Reverse\n"
     ]
    }
   ],
   "source": [
    "#pip install spotipy pandas Dont forget!\n",
    "\n",
    "import spotipy\n",
    "from spotipy.oauth2 import SpotifyClientCredentials\n",
    "import pandas as pd\n",
    "\n",
    "# Your Spotify API credentials 👇\n",
    "client_id = '' #YOUR CLIENT ID\n",
    "client_secret = '' #YOUR SECRET ID\n",
    "\n",
    "# Authenticate\n",
    "sp = spotipy.Spotify(auth_manager=SpotifyClientCredentials(client_id=client_id, client_secret=client_secret))\n",
    "\n",
    "# Extract artist ID from URL\n",
    "def extract_artist_id(url):\n",
    "    if 'artist/' in url:\n",
    "        return url.split('artist/')[1].split('?')[0]\n",
    "    return None\n",
    "\n",
    "# Example artist URL\n",
    "artist_url = ''  # PASTE YOUR ARTIST URL HERE\n",
    "artist_id = extract_artist_id(artist_url)\n",
    "\n",
    "# Fetch artist info\n",
    "artist_info = sp.artist(artist_id)\n",
    "artist_name = artist_info['name']\n",
    "artist_followers = artist_info['followers']['total']\n",
    "\n",
    "# Get all albums (including singles + compilations)\n",
    "albums = sp.artist_albums(artist_id, album_type='album,single,compilation', country='US', limit=50)\n",
    "album_ids = list(set([album['id'] for album in albums['items']]))\n",
    "\n",
    "# Get all tracks from all albums\n",
    "all_tracks = []\n",
    "for album_id in album_ids:\n",
    "    tracks = sp.album_tracks(album_id)\n",
    "    for track in tracks['items']:\n",
    "        track_info = sp.track(track['id'])\n",
    "        all_tracks.append({\n",
    "            'Artist Name': artist_name,\n",
    "            'Artist Followers': artist_followers,\n",
    "            'Song Name': track_info['name'],\n",
    "            'Album Name': track_info['album']['name'],\n",
    "            'Popularity Score (0-100)': track_info['popularity'],\n",
    "            'Spotify URL': track_info['external_urls']['spotify']\n",
    "        })\n",
    "\n",
    "# Remove duplicates (some songs are on multiple albums)\n",
    "df_tracks = pd.DataFrame(all_tracks).drop_duplicates(subset='Song Name')\n",
    "\n",
    "# Sort by popularity and take top 20\n",
    "df_top_20 = df_tracks.sort_values(by='Popularity Score (0-100)', ascending=False).head(20)\n",
    "\n",
    "# Export to CSV with comma delimiter\n",
    "df_top_20.to_csv('spotify_artist_top_20.csv', index=False, encoding='utf-8')\n",
    "\n",
    "print(f\"✅ Export complete: spotify_artist_top_20.csv for {artist_name}\")\n",
    "\n",
    "#KEEP THIS INFORMATION IN MIND:\n",
    "\n",
    "#| Popularity Score | Meaning                                              |\n",
    "#| ---------------- | ---------------------------------------------------- |\n",
    "#| **90–100**       | Extremely popular (global hits, viral songs)         |\n",
    "#| **70–89**        | Very popular (frequent playlists, big artists)       |\n",
    "#| **40–69**        | Moderately popular (steady listens, niche fanbase)   |\n",
    "#| **0–39**         | Less popular (rarely played, older or indie content) |\n"
   ]
  },
  {
   "cell_type": "code",
   "execution_count": null,
   "metadata": {},
   "outputs": [],
   "source": []
  }
 ],
 "metadata": {
  "kernelspec": {
   "display_name": "Python 3",
   "language": "python",
   "name": "python3"
  },
  "language_info": {
   "codemirror_mode": {
    "name": "ipython",
    "version": 3
   },
   "file_extension": ".py",
   "mimetype": "text/x-python",
   "name": "python",
   "nbconvert_exporter": "python",
   "pygments_lexer": "ipython3",
   "version": "3.10.10"
  }
 },
 "nbformat": 4,
 "nbformat_minor": 2
}
